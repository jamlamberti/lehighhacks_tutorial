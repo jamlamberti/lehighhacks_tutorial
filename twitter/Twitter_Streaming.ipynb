{
 "cells": [
  {
   "cell_type": "markdown",
   "metadata": {},
   "source": [
    "# Working with Twitter in Python\n",
    "\n",
    "In this tutorial we will be using the [tweepy](http://www.tweepy.org/) API for twitter.\n",
    "\n",
    "To install it run:\n",
    "* pip install tweepy\n",
    "\n",
    "Next we need to register with Twitter\n",
    "* Go to [https://dev.twitter.com](https://dev.twitter.com)\n",
    "* Click on \"Manage Your Apps\" and create a new App\n",
    "* If your project doesn't have a website yet, just use http://example.com\n",
    "* For this tutorial, we do not need an Oauth token since we just care about scraping Twitter data\n",
    "\n",
    "Now we have a consumer API token, but we need secret tokens for our app\n",
    "* Click on Keys and Access tokens\n",
    "* Then click on the \"Create my access token button\""
   ]
  },
  {
   "cell_type": "markdown",
   "metadata": {},
   "source": [
    "# Create a token file (twitter.cfg)\n",
    "\n",
    "Add in your keys so the file looks like:\n",
    "\n",
    "[api]\n",
    "\n",
    "consumer_key = %consumer_key%\n",
    "\n",
    "consumer_secret = %consumer_secret%\n",
    "\n",
    "access_token = %access_token%\n",
    "\n",
    "access_token_secret = %access_token_secret%"
   ]
  },
  {
   "cell_type": "code",
   "execution_count": null,
   "metadata": {
    "collapsed": false
   },
   "outputs": [],
   "source": [
    "from pprint import pprint\n",
    "import tweepy\n",
    "import configparser\n",
    "import json\n",
    "\n",
    "parser = configparser.ConfigParser()\n",
    "parser.read(['twitter.cfg'])\n",
    "consumer_key = parser.get('api', 'consumer_key')\n",
    "consumer_secret = parser.get('api', 'consumer_secret')\n",
    "access_token = parser.get('api', 'access_token')\n",
    "access_token_secret = parser.get('api', 'access_token_secret')"
   ]
  },
  {
   "cell_type": "code",
   "execution_count": null,
   "metadata": {
    "collapsed": false
   },
   "outputs": [],
   "source": [
    "auth = tweepy.OAuthHandler(consumer_key, consumer_secret)\n",
    "auth.set_access_token(access_token, access_token_secret)\n",
    "api = tweepy.API(auth)"
   ]
  },
  {
   "cell_type": "code",
   "execution_count": null,
   "metadata": {
    "collapsed": false
   },
   "outputs": [],
   "source": [
    "# Getting Trending HashTags\n",
    "# Based on https://woe.spum.org/ (e.g. search United States)\n",
    "trends = api.trends_place(23424977)\n",
    "pprint(trends)"
   ]
  },
  {
   "cell_type": "code",
   "execution_count": null,
   "metadata": {
    "collapsed": false
   },
   "outputs": [],
   "source": [
    "trends_list = [i['name'] for i in trends[0]['trends']]\n",
    "print trends_list"
   ]
  },
  {
   "cell_type": "markdown",
   "metadata": {},
   "source": [
    "# Now let's set up streaming!"
   ]
  },
  {
   "cell_type": "code",
   "execution_count": null,
   "metadata": {
    "collapsed": false
   },
   "outputs": [],
   "source": [
    "from tweepy.streaming import StreamListener"
   ]
  },
  {
   "cell_type": "code",
   "execution_count": null,
   "metadata": {
    "collapsed": false
   },
   "outputs": [],
   "source": [
    "from textblob import TextBlob\n",
    "class StdOutStreamer(StreamListener):\n",
    "    def __init__(self):\n",
    "        super(StdOutStreamer, self).__init__()\n",
    "        self.tweet_cnt = 0\n",
    "        self.retweet_cnt = 0\n",
    "\n",
    "    def on_data(self, data):\n",
    "        data = json.loads(data)\n",
    "        # Check if there is text tied to the tweet\n",
    "        if 'text' in data:\n",
    "            print TextBlob(data['text']).sentiment\n",
    "            if data['text'].strip().startswith('RT'):\n",
    "                self.retweet_cnt += 1\n",
    "            else:\n",
    "                self.tweet_cnt += 1\n",
    "        # Just to exit\n",
    "        if self.tweet_cnt >= 100:\n",
    "            raise Exception(\"Too many tweets\")\n",
    "    def on_error(self, status):\n",
    "        print status\n",
    "        print \"Tweet Cnt: %d, RT Cnt: %d\"%(self.retweet_cnt, self.tweet_cnt)"
   ]
  },
  {
   "cell_type": "code",
   "execution_count": null,
   "metadata": {
    "collapsed": false
   },
   "outputs": [],
   "source": [
    "try:\n",
    "    l = StdOutStreamer()\n",
    "    stream = tweepy.Stream(auth, l)\n",
    "    stream.filter(track=trends_list)\n",
    "except KeyboardInterrupt, e:\n",
    "    pass\n",
    "except Exception, e:\n",
    "    pass"
   ]
  },
  {
   "cell_type": "markdown",
   "metadata": {
    "collapsed": true
   },
   "source": [
    "# Downloading Tweets from a User"
   ]
  },
  {
   "cell_type": "code",
   "execution_count": null,
   "metadata": {
    "collapsed": false
   },
   "outputs": [],
   "source": [
    "tweets = []\n",
    "times = []\n",
    "username = 'AppleSupport'\n",
    "new_tweets = api.user_timeline(screen_name=username, count=200)\n",
    "tweets.extend([i.text for i in new_tweets])\n",
    "times.extend([i.created_at for i in new_tweets])\n",
    "\n",
    "\n",
    "while len(new_tweets) > 0:\n",
    "    oldest = new_tweets[-1].id - 1\n",
    "    new_tweets = api.user_timeline(screen_name=username, count=200, max_id=oldest)\n",
    "    \n",
    "    tweets.extend([i.text for i in new_tweets])\n",
    "    times.extend([i.created_at for i in new_tweets])"
   ]
  },
  {
   "cell_type": "code",
   "execution_count": null,
   "metadata": {
    "collapsed": false
   },
   "outputs": [],
   "source": [
    "#print tweets[2]\n",
    "for i, tweet in enumerate(tweets):\n",
    "    print times[i], TextBlob(tweet).sentiment"
   ]
  },
  {
   "cell_type": "code",
   "execution_count": null,
   "metadata": {
    "collapsed": false
   },
   "outputs": [],
   "source": []
  },
  {
   "cell_type": "code",
   "execution_count": null,
   "metadata": {
    "collapsed": true
   },
   "outputs": [],
   "source": []
  }
 ],
 "metadata": {
  "kernelspec": {
   "display_name": "Python 2",
   "language": "python",
   "name": "python2"
  },
  "language_info": {
   "codemirror_mode": {
    "name": "ipython",
    "version": 2
   },
   "file_extension": ".py",
   "mimetype": "text/x-python",
   "name": "python",
   "nbconvert_exporter": "python",
   "pygments_lexer": "ipython2",
   "version": "2.7.6"
  }
 },
 "nbformat": 4,
 "nbformat_minor": 0
}
