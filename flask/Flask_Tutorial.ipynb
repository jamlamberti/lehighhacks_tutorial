{
 "cells": [
  {
   "cell_type": "markdown",
   "metadata": {},
   "source": [
    "# Creating a Flask Web App!"
   ]
  },
  {
   "cell_type": "code",
   "execution_count": null,
   "metadata": {
    "collapsed": false
   },
   "outputs": [],
   "source": [
    "import os\n",
    "from flask import Flask, send_file, make_response\n",
    "\n",
    "# The name of your app\n",
    "app = Flask('Contributions Viewer')"
   ]
  },
  {
   "cell_type": "markdown",
   "metadata": {},
   "source": [
    "# Routing in flask\n",
    "* We wrap functions with @app.route('path')\n",
    " * Where < and > surrounds variables\n",
    "\n",
    "\n",
    "* We also need to set the right mime type e.g. text/html"
   ]
  },
  {
   "cell_type": "code",
   "execution_count": null,
   "metadata": {
    "collapsed": true
   },
   "outputs": [],
   "source": [
    "@app.route('/')\n",
    "def index_page():\n",
    "    return send_file('index.html', mimetype='text/html')"
   ]
  },
  {
   "cell_type": "markdown",
   "metadata": {},
   "source": [
    "# Routing with variables\n",
    "* Instead of @app.route('path') we can use @app.route('/something/< filename >')"
   ]
  },
  {
   "cell_type": "code",
   "execution_count": null,
   "metadata": {
    "collapsed": true
   },
   "outputs": [],
   "source": [
    "@app.route('/js/<filename>')\n",
    "def send_js(filename):\n",
    "    return send_file(\n",
    "        os.path.join('js', os.path.basename(filename)),\n",
    "        mimetype=\"text/js\")"
   ]
  },
  {
   "cell_type": "code",
   "execution_count": null,
   "metadata": {
    "collapsed": true
   },
   "outputs": [],
   "source": [
    "# Similarly we can do:\n",
    "@app.route('/css/<filename>')\n",
    "def send_css(filename):\n",
    "    return send_file(\n",
    "        os.path.join('css', os.path.basename(filename)),\n",
    "        mimetype=\"text/css\")"
   ]
  },
  {
   "cell_type": "markdown",
   "metadata": {},
   "source": [
    "# Dealing with data\n",
    "* Let's say we have some json data\n",
    " * We don't want this to be cached!"
   ]
  },
  {
   "cell_type": "code",
   "execution_count": null,
   "metadata": {
    "collapsed": false
   },
   "outputs": [],
   "source": [
    "from functools import wraps, update_wrapper\n",
    "from datetime import datetime\n",
    "\n",
    "def nocache(view):\n",
    "    @wraps(view)\n",
    "    def no_cache(*args, **kwargs):\n",
    "        response = make_response(view(*args, **kwargs))\n",
    "        response.headers['Last-Modified'] = datetime.now()\n",
    "        response.headers['Cache-Control'] = 'no-store, no-cache, must-revalidate,' \\\n",
    "                                            'post-check=0, pre-check=0, max-age=0'\n",
    "        response.headers['Pragma'] = 'no-cache'\n",
    "        response.headers['Expires'] = '-1'\n",
    "        return response\n",
    "    return update_wrapper(no_cache, view)"
   ]
  },
  {
   "cell_type": "code",
   "execution_count": null,
   "metadata": {
    "collapsed": false
   },
   "outputs": [],
   "source": [
    "# And now we can get the data\n",
    "@app.route('/data/<filename>')\n",
    "@nocache\n",
    "def send_data(filename):\n",
    "    return send_file(\n",
    "        os.path.join('data', os.path.basename(filename)),\n",
    "        mimetype='application/json')\n"
   ]
  },
  {
   "cell_type": "markdown",
   "metadata": {},
   "source": [
    "# Starting the server"
   ]
  },
  {
   "cell_type": "code",
   "execution_count": null,
   "metadata": {
    "collapsed": false
   },
   "outputs": [],
   "source": [
    "app.run(host='0.0.0.0', port=5001)"
   ]
  },
  {
   "cell_type": "code",
   "execution_count": null,
   "metadata": {
    "collapsed": true
   },
   "outputs": [],
   "source": []
  }
 ],
 "metadata": {
  "kernelspec": {
   "display_name": "Python 2",
   "language": "python",
   "name": "python2"
  },
  "language_info": {
   "codemirror_mode": {
    "name": "ipython",
    "version": 2
   },
   "file_extension": ".py",
   "mimetype": "text/x-python",
   "name": "python",
   "nbconvert_exporter": "python",
   "pygments_lexer": "ipython2",
   "version": "2.7.6"
  }
 },
 "nbformat": 4,
 "nbformat_minor": 0
}
